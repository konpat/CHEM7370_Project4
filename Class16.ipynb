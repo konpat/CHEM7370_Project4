{
 "cells": [
  {
   "cell_type": "markdown",
   "id": "3e7143b0",
   "metadata": {},
   "source": [
    "# CHEM7370 Class 16\n",
    "## Calculating bond lengths and angles\n",
    "Let's now go back to the XYZ geometry of toluene. We want to find the bond lengths present in this molecule.\n",
    "\n",
    "At the moment, the nuclear coordinates are contained in the string variable `xyz`, so first we need to convert them into a NumPy array."
   ]
  },
  {
   "cell_type": "code",
   "execution_count": 1,
   "id": "fccef06b",
   "metadata": {},
   "outputs": [
    {
     "name": "stdout",
     "output_type": "stream",
     "text": [
      "[[ 2.2126 -0.1714  0.0957]\n",
      " [ 0.7202 -0.052   0.0066]\n",
      " [ 0.0966  1.1905  0.1749]\n",
      " [-1.2944  1.2963  0.1233]\n",
      " [-2.0737  0.1601 -0.0865]\n",
      " [-1.463  -1.083  -0.2404]\n",
      " [-0.0721 -1.1901 -0.189 ]\n",
      " [ 2.5123 -0.3511  1.1327]\n",
      " [ 2.6995  0.7425 -0.2605]\n",
      " [ 2.5763 -0.9961 -0.5262]\n",
      " [ 0.6916  2.0845  0.3467]\n",
      " [-1.7697  2.2653  0.2497]\n",
      " [-3.1565  0.2429 -0.1257]\n",
      " [-2.0699 -1.9706 -0.3979]\n",
      " [ 0.3903 -2.1678 -0.3034]]\n"
     ]
    }
   ],
   "source": [
    "import numpy as np\n",
    "xyz = '''15\n",
    "XYZ geometry from RDKit\n",
    "C 2.2126 -0.1714 0.0957\n",
    "C 0.7202 -0.0520 0.0066\n",
    "C 0.0966 1.1905 0.1749\n",
    "C -1.2944 1.2963 0.1233\n",
    "C -2.0737 0.1601 -0.0865\n",
    "C -1.4630 -1.0830 -0.2404\n",
    "C -0.0721 -1.1901 -0.1890\n",
    "H 2.5123 -0.3511 1.1327\n",
    "H 2.6995 0.7425 -0.2605\n",
    "H 2.5763 -0.9961 -0.5262\n",
    "H 0.6916 2.0845 0.3467\n",
    "H -1.7697 2.2653 0.2497\n",
    "H -3.1565 0.2429 -0.1257\n",
    "H -2.0699 -1.9706 -0.3979\n",
    "H 0.3903 -2.1678 -0.3034\n",
    "'''\n",
    "xyz_lines = xyz.split(\"\\n\")\n",
    "natoms = int(xyz_lines[0])\n",
    "lcoord = []\n",
    "atom_symbols = []\n",
    "for atom in xyz_lines[2:natoms+2]:\n",
    "    atom_symbols.append(atom.split()[0])\n",
    "    lcoord.append([float(x) for x in atom.split()[1:]])\n",
    "lcoord = np.array(lcoord)\n",
    "print(lcoord)"
   ]
  },
  {
   "cell_type": "markdown",
   "id": "a245da03",
   "metadata": {},
   "source": [
    "We will need a function that takes two `numpy` arrays `atom1` and `atom2` (each with 3 coordinates) and calculates the distance between the two atoms. Complete this function."
   ]
  },
  {
   "cell_type": "code",
   "execution_count": 2,
   "id": "0a30a563",
   "metadata": {},
   "outputs": [],
   "source": [
    "def distance(atom1,atom2):\n",
    "#    return np.sqrt((atom2[0]-atom1[0])*(atom2[0]-atom1[0])+(atom2[1]-atom1[1])*(atom2[1]-atom1[1])+(\n",
    "#        atom2[2]-atom1[2])*(atom2[2]-atom1[2]))\n",
    "    return np.sqrt(np.sum((atom2-atom1)*(atom2-atom1)))"
   ]
  },
  {
   "cell_type": "markdown",
   "id": "f27b3274",
   "metadata": {},
   "source": [
    "Let's now pick every pair of atoms (with the double `for` loop), calculate the distance, and print it if it's less than 1.6 Angstroms (so that it likely represents a bond). Complete the code inside the loops."
   ]
  },
  {
   "cell_type": "code",
   "execution_count": 3,
   "id": "2dafa549",
   "metadata": {},
   "outputs": [
    {
     "name": "stdout",
     "output_type": "stream",
     "text": [
      "1.4998176322473344\n",
      "1.400359989431289\n",
      "1.3959717762189894\n",
      "1.3936552550756591\n",
      "1.3935341079428232\n",
      "1.4004535908054931\n",
      "1.3959638892177693\n",
      "1.0942948323006922\n",
      "1.0950631306002407\n",
      "1.0950650163346467\n",
      "1.0875551664168581\n",
      "1.0866683256633551\n",
      "1.0866684498962873\n",
      "1.0867233410578794\n",
      "1.0875653589554977\n"
     ]
    }
   ],
   "source": [
    "for i in range(natoms):\n",
    "    for j in range(i):\n",
    "        dist = distance(lcoord[i,:],lcoord[j,:])\n",
    "        if dist < 1.6:\n",
    "            print(dist)"
   ]
  },
  {
   "cell_type": "markdown",
   "id": "852e9600",
   "metadata": {},
   "source": [
    "Modify the code above so that, for every bond, it also prints the bond type (C-C or C-H). Remember that we saved the `atom_symbols` array."
   ]
  },
  {
   "cell_type": "code",
   "execution_count": 4,
   "id": "511f5d3c",
   "metadata": {},
   "outputs": [
    {
     "name": "stdout",
     "output_type": "stream",
     "text": [
      "C-C 1.4998176322473344\n",
      "C-C 1.400359989431289\n",
      "C-C 1.3959717762189894\n",
      "C-C 1.3936552550756591\n",
      "C-C 1.3935341079428232\n",
      "C-C 1.4004535908054931\n",
      "C-C 1.3959638892177693\n",
      "H-C 1.0942948323006922\n",
      "H-C 1.0950631306002407\n",
      "H-C 1.0950650163346467\n",
      "H-C 1.0875551664168581\n",
      "H-C 1.0866683256633551\n",
      "H-C 1.0866684498962873\n",
      "H-C 1.0867233410578794\n",
      "H-C 1.0875653589554977\n"
     ]
    }
   ],
   "source": [
    "for i in range(natoms):\n",
    "    for j in range(i):\n",
    "        dist = distance(lcoord[i,:],lcoord[j,:])\n",
    "        if dist < 1.6:\n",
    "            print(atom_symbols[i]+\"-\"+atom_symbols[j],dist)"
   ]
  },
  {
   "cell_type": "markdown",
   "id": "8fea72e5",
   "metadata": {},
   "source": [
    "As our last task, let's find the bond angles in this molecule.\n",
    "\n",
    "A short refresher from geometry: the dot product `np.dot(v1,v2)` of two vectors *v<sub>1</sub>=(x<sub>1</sub>,y<sub>1</sub>,z<sub>1</sub>)* and *v<sub>2</sub>=(x<sub>2</sub>,y<sub>2</sub>,z<sub>2</sub>)* equals *x<sub>1</sub>x<sub>2</sub>+y<sub>1</sub>y<sub>2</sub>+z<sub>1</sub>z<sub>2</sub>*. This dot product is equal to the product of the lengths of *v<sub>1</sub>* and *v<sub>2</sub>* times the cosine of the angle between the two vectors. If you calculate the cosine, you can use the inverse cosine function `np.arccos()` to get the angle - just remember that this angle will be in radians, and you need to multiply it by `180.0/np.pi` to convert it to degrees.\n",
    "\n",
    "Complete the function that takes three `numpy` arrays `atom1`, `atom2`, `atom3` (each with 3 coordinates) and calculates the `atom1-atom2-atom3` angle."
   ]
  },
  {
   "cell_type": "code",
   "execution_count": 5,
   "id": "3782b7b0",
   "metadata": {},
   "outputs": [],
   "source": [
    "def angle(atom1,atom2,atom3):\n",
    "    v1 = atom1 - atom2\n",
    "    v2 = atom3 - atom2\n",
    "    v1dotv2 = np.dot(v1,v2)\n",
    "    lenv1 = distance(atom2,atom1)\n",
    "    lenv2 = distance(atom3,atom2)\n",
    "    cosalpha = v1dotv2/(lenv1*lenv2)\n",
    "    return np.arccos(cosalpha)*180.0/np.pi"
   ]
  },
  {
   "cell_type": "markdown",
   "id": "1c333a5e",
   "metadata": {},
   "source": [
    "Now, use the definition of `angle` to print the angles between any two bonds sharing a common atom. Remember that for any three atoms `atom1`, `atom2`, `atom3` you need to check three possibilities - each of the three atoms can be bonded to the other two. For example, if `atom1` is bonded to both `atom2` and `atom3`, you need to print the angle `atom2-atom1-atom3`. Please also print the type of the bond angle (for example, `C-C-H`)."
   ]
  },
  {
   "cell_type": "code",
   "execution_count": 6,
   "id": "02d3d5d4",
   "metadata": {},
   "outputs": [
    {
     "name": "stdout",
     "output_type": "stream",
     "text": [
      "C-C-C 120.4381098505056\n",
      "C-C-C 120.43307373881382\n",
      "C-C-C 120.06362313049614\n",
      "C-C-C 119.92259387703254\n",
      "C-C-C 120.43420602329655\n",
      "C-C-C 119.07188682779349\n",
      "C-C-C 120.43011621160676\n",
      "C-C-C 120.0675840332504\n",
      "H-C-C 109.99209093824534\n",
      "H-C-C 110.89580935805935\n",
      "H-C-H 108.87604443305837\n",
      "H-C-C 110.89768694022479\n",
      "H-C-H 108.87740131088155\n",
      "H-C-H 107.22421859586296\n",
      "H-C-C 120.31251246623872\n",
      "H-C-C 119.25439953339851\n",
      "H-C-C 119.94162355048594\n",
      "H-C-C 119.99452714569934\n",
      "H-C-C 120.0328676907391\n",
      "H-C-C 120.04400448136244\n",
      "H-C-C 119.99073693666085\n",
      "H-C-C 119.94146820020558\n",
      "H-C-C 120.31303394534035\n",
      "H-C-C 119.2568317927332\n"
     ]
    }
   ],
   "source": [
    "for i in range(natoms):\n",
    "    for j in range(i):\n",
    "        for k in range(j):\n",
    "            if distance(lcoord[i,:],lcoord[j,:]) < 1.6 and distance(lcoord[i,:],lcoord[k,:]) < 1.6:\n",
    "                print(atom_symbols[j]+\"-\"+atom_symbols[i]+\"-\"+atom_symbols[k],angle(lcoord[j,:],lcoord[i,:],lcoord[k,:]))\n",
    "            if distance(lcoord[i,:],lcoord[j,:]) < 1.6 and distance(lcoord[j,:],lcoord[k,:]) < 1.6:\n",
    "                print(atom_symbols[i]+\"-\"+atom_symbols[j]+\"-\"+atom_symbols[k],angle(lcoord[i,:],lcoord[j,:],lcoord[k,:]))\n",
    "            if distance(lcoord[j,:],lcoord[k,:]) < 1.6 and distance(lcoord[i,:],lcoord[k,:]) < 1.6:\n",
    "                print(atom_symbols[i]+\"-\"+atom_symbols[k]+\"-\"+atom_symbols[j],angle(lcoord[i,:],lcoord[k,:],lcoord[j,:]))    \n",
    "                "
   ]
  },
  {
   "cell_type": "markdown",
   "id": "ff80657f",
   "metadata": {},
   "source": [
    "Now, the specific tasks that are needed for Project 4:"
   ]
  },
  {
   "cell_type": "code",
   "execution_count": 7,
   "id": "7e781dc5",
   "metadata": {},
   "outputs": [
    {
     "name": "stdout",
     "output_type": "stream",
     "text": [
      "[[ 6.      2.2126 -0.1714  0.0957]\n",
      " [ 6.      0.7202 -0.052   0.0066]\n",
      " [ 6.      0.0966  1.1905  0.1749]\n",
      " [ 6.     -1.2944  1.2963  0.1233]\n",
      " [ 6.     -2.0737  0.1601 -0.0865]\n",
      " [ 6.     -1.463  -1.083  -0.2404]\n",
      " [ 6.     -0.0721 -1.1901 -0.189 ]\n",
      " [ 1.      2.5123 -0.3511  1.1327]\n",
      " [ 1.      2.6995  0.7425 -0.2605]\n",
      " [ 1.      2.5763 -0.9961 -0.5262]\n",
      " [ 1.      0.6916  2.0845  0.3467]\n",
      " [ 1.     -1.7697  2.2653  0.2497]\n",
      " [ 1.     -3.1565  0.2429 -0.1257]\n",
      " [ 1.     -2.0699 -1.9706 -0.3979]\n",
      " [ 1.      0.3903 -2.1678 -0.3034]]\n",
      "(15, 4)\n"
     ]
    }
   ],
   "source": [
    "atomic_numbers = {'H':1, 'B':5, 'C':6, 'N':7, 'O':8, 'F':9, 'P':15, 'S':16, 'Cl':17}\n",
    "charges = []\n",
    "for symbol in atom_symbols:\n",
    "    if symbol in atomic_numbers:\n",
    "        charges.append(float(atomic_numbers[symbol]))\n",
    "    else:\n",
    "        print ('Unknown atom:',symbol)\n",
    "charges = (np.array(charges)[np.newaxis]).T\n",
    "#print(charges.shape,lcoord.shape)\n",
    "molecule = np.hstack((charges,lcoord))\n",
    "print(molecule)\n",
    "print(molecule.shape)"
   ]
  },
  {
   "cell_type": "code",
   "execution_count": 9,
   "id": "7e690b79",
   "metadata": {},
   "outputs": [
    {
     "name": "stdout",
     "output_type": "stream",
     "text": [
      "atomic_number and Coordinates for file1:\n",
      "[[ 6.      -4.12149  2.41459 -0.09003]\n",
      " [ 6.      -2.67699  2.26472  0.30482]\n",
      " [ 6.      -1.65547  3.24568 -0.14713]\n",
      " [ 1.      -1.75372  3.48137 -1.21188]\n",
      " [ 1.      -0.64986  2.84752  0.02049]\n",
      " [ 1.      -1.75166  4.177    0.41938]\n",
      " [ 8.      -3.25237  1.47358 -0.74025]\n",
      " [ 1.      -4.4229   3.29025 -0.65027]\n",
      " [ 1.      -4.87872  2.01599  0.57306]\n",
      " [ 1.      -2.43764  1.78612  1.24389]]\n",
      "atomic_number and Coordinates for file2:\n",
      "[[8.      2.68118 1.58333 4.14362]\n",
      " [1.      3.52123 1.58333 3.65862]\n",
      " [1.      2.82687 1.91721 5.04262]]\n"
     ]
    }
   ],
   "source": [
    "#task 1\n",
    "# Function to read XYZ file and return atom coordinates\n",
    "def read_xyz_file(filename):\n",
    "    atomic_number = {\n",
    "    'H': 1,\n",
    "    'C': 6,\n",
    "    'N': 7,\n",
    "    'O': 8\n",
    "}\n",
    "    with open(filename, 'r') as f:\n",
    "        lines = f.readlines()\n",
    "        natoms = int(lines[0].strip())\n",
    "        lcoords = []\n",
    "        atom_symbols = []\n",
    "        for line in lines[2:]:\n",
    "            elements = line.strip().split()\n",
    "            if len(elements) == 4:\n",
    "                coords = [float(x) for x in elements[1:4]]\n",
    "                atom_symbol = elements[0]\n",
    "                atom_symbols.append(atom_symbol)\n",
    "                lcoords.append(coords)\n",
    "        atomic_numbers = np.array([atomic_number.get(atom_symbol, 0) for atom_symbol in atom_symbols])\n",
    "\n",
    "        return np.column_stack((atomic_numbers, np.array(lcoords)))\n",
    "\n",
    "\n",
    "# Read two XYZ files\n",
    "import os\n",
    "file1 = os.path.join(\"examples\",\"propylene_oxide1.xyz\")\n",
    "file2 = os.path.join(\"examples\",\"water2.xyz\")\n",
    "\n",
    "#Read coordinates and atom symbols for file1\n",
    "coords1 = read_xyz_file(file1)\n",
    "\n",
    "#Read coordinates and atom symbols for file2\n",
    "coords2 = read_xyz_file(file2)\n",
    "\n",
    "print(\"atomic_number and Coordinates for file1:\")\n",
    "print(coords1)\n",
    "\n",
    "print(\"atomic_number and Coordinates for file2:\")\n",
    "print(coords2)"
   ]
  },
  {
   "cell_type": "code",
   "execution_count": 10,
   "id": "a4b2577f",
   "metadata": {},
   "outputs": [
    {
     "name": "stdout",
     "output_type": "stream",
     "text": [
      "[-2.92005367  2.35023928 -0.18307108]\n",
      "[2.73633548 1.60201171 4.1667847 ]\n"
     ]
    }
   ],
   "source": [
    "#task 2\n",
    "molecule1 = coords1\n",
    "molecule2 = coords2\n",
    "atomic_mass = {1: 1.008, 6: 12.011, 7: 14.007, 8: 15.999}\n",
    "\n",
    "def calculate_center_of_mass(molecule):\n",
    "    symbols = molecule[:,0]\n",
    "    coordinates = molecule[:,1:4]\n",
    "    total_mass = 0\n",
    "    center_of_mass = np.zeros([3])\n",
    "    for i in range(len(symbols)):\n",
    "        mass = atomic_mass[symbols[i]]\n",
    "        total_mass += mass\n",
    "        center_of_mass += mass *coordinates[i]\n",
    "    center_of_mass /= total_mass\n",
    "    return center_of_mass\n",
    "\n",
    "print(calculate_center_of_mass(molecule1))\n",
    "print(calculate_center_of_mass(molecule2))"
   ]
  },
  {
   "cell_type": "code",
   "execution_count": 12,
   "id": "a14c7431",
   "metadata": {},
   "outputs": [
    {
     "name": "stdout",
     "output_type": "stream",
     "text": [
      "[[ 6.         -1.20143633  0.06435072  0.09304108]\n",
      " [ 6.          0.24306367 -0.08551928  0.48789108]\n",
      " [ 6.          1.26458367  0.89544072  0.03594108]\n",
      " [ 1.          1.16633367  1.13113072 -1.02880892]\n",
      " [ 1.          2.27019367  0.49728072  0.20356108]\n",
      " [ 1.          1.16839367  1.82676072  0.60245108]\n",
      " [ 8.         -0.33231633 -0.87665928 -0.55717892]\n",
      " [ 1.         -1.50284633  0.94001072 -0.46719892]\n",
      " [ 1.         -1.95866633 -0.33424928  0.75613108]\n",
      " [ 1.          0.48241367 -0.56411928  1.42696108]]\n",
      "[-9.17539690e-16  1.20427084e-15 -6.11693127e-17]\n",
      "[[ 8.         -0.05515548 -0.01868171 -0.0231647 ]\n",
      " [ 1.          0.78489452 -0.01868171 -0.5081647 ]\n",
      " [ 1.          0.09053452  0.31519829  0.8758353 ]]\n",
      "[ 1.34040249e-16 -3.08138503e-18  3.75928973e-16]\n"
     ]
    }
   ],
   "source": [
    "#task 3\n",
    "def translate_molecule(molecule, shift):\n",
    "    # Create the translation vector\n",
    "    translation_vector = shift\n",
    "    \n",
    "    # Add the translation vector to the original coordinates\n",
    "    translated_molecule = []\n",
    "    for atom in molecule:\n",
    "        atom_symbol = atom[0]\n",
    "        atom_coords = np.array(atom[1:]) + translation_vector\n",
    "        translated_atom = [atom_symbol] + atom_coords.tolist()\n",
    "        translated_molecule.append(translated_atom)\n",
    "    \n",
    "    return np.array(translated_molecule)\n",
    "\n",
    "molecule1t = translate_molecule(molecule1,-calculate_center_of_mass(molecule1))\n",
    "print(molecule1t)\n",
    "print(calculate_center_of_mass(molecule1t))\n",
    "molecule2t = translate_molecule(molecule2,-calculate_center_of_mass(molecule2))\n",
    "print(molecule2t)\n",
    "print(calculate_center_of_mass(molecule2t))"
   ]
  },
  {
   "cell_type": "code",
   "execution_count": 28,
   "id": "80b522b4",
   "metadata": {},
   "outputs": [
    {
     "name": "stdout",
     "output_type": "stream",
     "text": [
      "Before rotation\n",
      "[[ 6.         -1.20143633  0.06435072  0.09304108]\n",
      " [ 6.          0.24306367 -0.08551928  0.48789108]\n",
      " [ 6.          1.26458367  0.89544072  0.03594108]\n",
      " [ 1.          1.16633367  1.13113072 -1.02880892]\n",
      " [ 1.          2.27019367  0.49728072  0.20356108]\n",
      " [ 1.          1.16839367  1.82676072  0.60245108]\n",
      " [ 8.         -0.33231633 -0.87665928 -0.55717892]\n",
      " [ 1.         -1.50284633  0.94001072 -0.46719892]\n",
      " [ 1.         -1.95866633 -0.33424928  0.75613108]\n",
      " [ 1.          0.48241367 -0.56411928  1.42696108]]\n",
      "After rotation\n",
      "[[ 6.         -1.20143633 -0.09304108  0.06435072]\n",
      " [ 6.          0.24306367 -0.48789108 -0.08551928]\n",
      " [ 6.          1.26458367 -0.03594108  0.89544072]\n",
      " [ 1.          1.16633367  1.02880892  1.13113072]\n",
      " [ 1.          2.27019367 -0.20356108  0.49728072]\n",
      " [ 1.          1.16839367 -0.60245108  1.82676072]\n",
      " [ 8.         -0.33231633  0.55717892 -0.87665928]\n",
      " [ 1.         -1.50284633  0.46719892  0.94001072]\n",
      " [ 1.         -1.95866633 -0.75613108 -0.33424928]\n",
      " [ 1.          0.48241367 -1.42696108 -0.56411928]]\n",
      "After 2nd rotation\n",
      "[[ 6.          0.06435072 -0.09304108  1.20143633]\n",
      " [ 6.         -0.08551928 -0.48789108 -0.24306367]\n",
      " [ 6.          0.89544072 -0.03594108 -1.26458367]\n",
      " [ 1.          1.13113072  1.02880892 -1.16633367]\n",
      " [ 1.          0.49728072 -0.20356108 -2.27019367]\n",
      " [ 1.          1.82676072 -0.60245108 -1.16839367]\n",
      " [ 8.         -0.87665928  0.55717892  0.33231633]\n",
      " [ 1.          0.94001072  0.46719892  1.50284633]\n",
      " [ 1.         -0.33424928 -0.75613108  1.95866633]\n",
      " [ 1.         -0.56411928 -1.42696108 -0.48241367]]\n",
      "After 3rd rotation\n",
      "[[ 6.         -0.06435072  0.09304108  1.20143633]\n",
      " [ 6.          0.08551928  0.48789108 -0.24306367]\n",
      " [ 6.         -0.89544072  0.03594108 -1.26458367]\n",
      " [ 1.         -1.13113072 -1.02880892 -1.16633367]\n",
      " [ 1.         -0.49728072  0.20356108 -2.27019367]\n",
      " [ 1.         -1.82676072  0.60245108 -1.16839367]\n",
      " [ 8.          0.87665928 -0.55717892  0.33231633]\n",
      " [ 1.         -0.94001072 -0.46719892  1.50284633]\n",
      " [ 1.          0.33424928  0.75613108  1.95866633]\n",
      " [ 1.          0.56411928  1.42696108 -0.48241367]]\n"
     ]
    }
   ],
   "source": [
    "#task 4\n",
    "#Rotating molecules around x, y and z axes\n",
    "\n",
    "def rotate_x(molecule,angle):\n",
    "    \"\"\"Rotates 3-D vector around x-axis\"\"\"\n",
    "    angle_radians = angle * np.pi / 180.0\n",
    "    x_rotation_matrix = np.array([[1, 0, 0],\n",
    "                            [0, np.cos(angle_radians), -np.sin(angle_radians)],\n",
    "                            [0, np.sin(angle_radians), np.cos(angle_radians)]])\n",
    "    rotated_molecule = []\n",
    "    for atom in molecule:\n",
    "        charge = atom[0]\n",
    "        coords = atom[1:]\n",
    "        rotated_coords = np.matmul(x_rotation_matrix,coords)\n",
    "        rotated_atom = [charge] + rotated_coords.tolist()\n",
    "        rotated_molecule.append(rotated_atom)\n",
    "    \n",
    "    return np.array(rotated_molecule)\n",
    "\n",
    "def rotate_y(molecule,angle):\n",
    "    \"\"\"Rotates 3-D vector around y-axis\"\"\"\n",
    "    angle_radians = angle * np.pi / 180.0\n",
    "    y_rotation_matrix = np.array([[np.cos(angle_radians),0,np.sin(angle_radians)],\n",
    "                            [0,1,0],\n",
    "                            [-np.sin(angle_radians), 0, np.cos(angle_radians)]])\n",
    "    rotated_molecule = []\n",
    "    for atom in molecule:\n",
    "        charge = atom[0]\n",
    "        coords = atom[1:]\n",
    "        rotated_coords = np.matmul(y_rotation_matrix,coords)\n",
    "        rotated_atom = [charge] + rotated_coords.tolist()\n",
    "        rotated_molecule.append(rotated_atom)\n",
    "    \n",
    "    return np.array(rotated_molecule)\n",
    "\n",
    "def rotate_z(molecule,angle):\n",
    "    \"\"\"Rotates 3-D vector around z-axis\"\"\"\n",
    "    angle_radians = angle * np.pi / 180.0\n",
    "    z_rotation_matrix = np.array([[np.cos(angle_radians), -np.sin(angle_radians),0],\n",
    "                            [np.sin(angle_radians), np.cos(angle_radians),0],\n",
    "                            [0, 0, 1]])\n",
    "    rotated_molecule = []\n",
    "    for atom in molecule:\n",
    "        charge = atom[0]\n",
    "        coords = atom[1:]\n",
    "        rotated_coords = np.matmul(z_rotation_matrix,coords)\n",
    "        rotated_atom = [charge] + rotated_coords.tolist()\n",
    "        rotated_molecule.append(rotated_atom)\n",
    "    \n",
    "    return np.array(rotated_molecule)\n",
    "\n",
    "test = rotate_x(molecule1t,90.0)\n",
    "print(\"Before rotation\")\n",
    "print(molecule1t)\n",
    "print(\"After rotation\")\n",
    "print(test)\n",
    "test2 = rotate_y(test,90.0)\n",
    "print(\"After 2nd rotation\")\n",
    "print(test2)\n",
    "test3 = rotate_z(test2,180.0)\n",
    "print(\"After 3rd rotation\")\n",
    "print(test3)"
   ]
  },
  {
   "cell_type": "code",
   "execution_count": 22,
   "id": "fc5d95bc",
   "metadata": {},
   "outputs": [
    {
     "name": "stdout",
     "output_type": "stream",
     "text": [
      "[[ 40.55897807   3.46468256 -20.66389398]\n",
      " [  3.46468256  81.63057457   6.30189719]\n",
      " [-20.66389398   6.30189719  65.60877328]]\n"
     ]
    }
   ],
   "source": [
    "#task 5\n",
    "def moment_of_inertia(molecule):\n",
    "# create a dictionary of atomic masses based on the atomic number\n",
    "    atomic_masses = {6: 12.0107, 7: 14.0067, 8: 15.9994, 1: 1.00794}\n",
    "\n",
    "    coordinates = molecule[:, 1:]\n",
    "\n",
    "    masses = np.array([atomic_masses[int(x)] for x in molecule[:, 0]])\n",
    "\n",
    "# calculate the moment of inertia tensor\n",
    "    I = np.zeros((3, 3))\n",
    "    for i in range(len(molecule)):\n",
    "        for j in range(3):\n",
    "            for k in range(3):\n",
    "                if j == k:\n",
    "                    I[j,j] += masses[i] * (coordinates[i,0]**2 + coordinates[i,1]**2 + coordinates[i,2]**2)\n",
    "                    I[j,j] -= masses[i] * coordinates[i,j]**2\n",
    "                else:\n",
    "                    I[j,k] -= masses[i] * coordinates[i,j] * coordinates[i,k]\n",
    "\n",
    "    return I\n",
    "\n",
    "print(moment_of_inertia(test))"
   ]
  },
  {
   "cell_type": "code",
   "execution_count": 25,
   "id": "ac3766e4",
   "metadata": {},
   "outputs": [
    {
     "name": "stdout",
     "output_type": "stream",
     "text": [
      "Eigenvalues\n",
      "[28.21737262 75.24839626 84.33255703]\n",
      "Eigenvectors\n",
      "[[-0.86122437  0.48677944 -0.14607655]\n",
      " [ 0.11429037  0.46556392  0.87760352]\n",
      " [-0.49520732 -0.7391184   0.4565892 ]]\n",
      "[-24.30148905   3.22497399 -13.97344947] [-24.30148905   3.22497399 -13.97344947]\n"
     ]
    }
   ],
   "source": [
    "#task 6\n",
    "def principal_axes(I):\n",
    "    w,v = np.linalg.eig(I)\n",
    "    return (w,v)\n",
    "\n",
    "eigenvalues,eigenvectors = principal_axes(moment_of_inertia(test))\n",
    "print(\"Eigenvalues\")\n",
    "print(eigenvalues)\n",
    "print(\"Eigenvectors\")\n",
    "print(eigenvectors)\n",
    "print(np.matmul(moment_of_inertia(test),eigenvectors[:,0]),eigenvalues[0]*eigenvectors[:,0])"
   ]
  },
  {
   "cell_type": "code",
   "execution_count": null,
   "id": "1fadf781",
   "metadata": {},
   "outputs": [],
   "source": [
    "#task 7"
   ]
  },
  {
   "cell_type": "code",
   "execution_count": null,
   "id": "2532477a",
   "metadata": {},
   "outputs": [],
   "source": [
    "#task 8"
   ]
  },
  {
   "cell_type": "code",
   "execution_count": null,
   "id": "cf04215b",
   "metadata": {},
   "outputs": [],
   "source": [
    "#task 9\n",
    "    \n",
    "import numpy as np\n",
    "\n",
    "def all_coordinates_match(molecule1, molecule2, tol=1e-6):\n",
    "    # Check if the number of atoms is the same\n",
    "    if molecule1.shape[0] != molecule2.shape[0]:\n",
    "        return False\n",
    "    \n",
    "    # Check if all coordinates match within the given tolerance of 0.000001\n",
    "    if np.allclose(molecule1[:, 1:], molecule2[:, 1:], rtol=tol, atol=tol):\n",
    "        return True\n",
    "    else:\n",
    "        return False\n",
    "\n",
    "if all_coordinates_match(molecule1, molecule2):\n",
    "    print(\"The two molecules have the same geometry (all coordinates match).\")\n",
    "else:\n",
    "    print(\"The two molecules have different geometries.\")\n"
   ]
  },
  {
   "cell_type": "code",
   "execution_count": null,
   "id": "359bb7ab",
   "metadata": {},
   "outputs": [],
   "source": [
    "#task 10\n",
    "def inversion(molecule):\n",
    "    charges = (molecule[:,0][np.newaxis]).T\n",
    "    coords = molecule[:,1:]\n",
    "    inverted_coords = - coords\n",
    "    inverted_molecule = np.hstack((charges,inverted_coords))\n",
    "    return inverted_molecule\n",
    "\n",
    "print(inversion(molecule))"
   ]
  },
  {
   "cell_type": "code",
   "execution_count": null,
   "id": "55dbeb28",
   "metadata": {},
   "outputs": [],
   "source": [
    "#tasks 999 and 1000\n",
    "mol1 = read_xyz(xyz1)\n",
    "mol2 = read_xyz(xyz2)\n",
    "def are_these_the_same(mol1,mol2):\n",
    "    com1 = center_of_mass(mol1)\n",
    "    mol1a = translate(mol1,com1)\n",
    "    com2 = center_of_mass(mol2)\n",
    "    mol2a = translate(mol2,com2)\n",
    "    axes1 = principal_axes(moment_of_inertia(mol1a))\n",
    "    axes2 = principal_axes(moment_of_inertia(mol2a))\n",
    "    (mol1b,axes1b) = rotate_1st_axis_to_z(mol1a,axes1)\n",
    "    (mol1c,axes1c) = rotate_2nd_axis_to_y(mol1b,axes1b)\n",
    "    (mol2b,axes2b) = rotate_1st_axis_to_z(mol2a,axes2)\n",
    "    (mol2c,axes2c) = rotate_2nd_axis_to_y(mol2b,axes2b)\n",
    "    return all_coordinates_match(mol1c,mol2c)\n",
    "    \n",
    "def are_these_mirror_images(mol1,mol2):\n",
    "    inv_mol2 = inversion(mol2)\n",
    "    return are_these_the_same(mol1,inv_mol2)"
   ]
  }
 ],
 "metadata": {
  "kernelspec": {
   "display_name": "Python 3 (ipykernel)",
   "language": "python",
   "name": "python3"
  },
  "language_info": {
   "codemirror_mode": {
    "name": "ipython",
    "version": 3
   },
   "file_extension": ".py",
   "mimetype": "text/x-python",
   "name": "python",
   "nbconvert_exporter": "python",
   "pygments_lexer": "ipython3",
   "version": "3.9.15"
  },
  "vscode": {
   "interpreter": {
    "hash": "31f2aee4e71d21fbe5cf8b01ff0e069b9275f58929596ceb00d14d90e3e16cd6"
   }
  }
 },
 "nbformat": 4,
 "nbformat_minor": 5
}
