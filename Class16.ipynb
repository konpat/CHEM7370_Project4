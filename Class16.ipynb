{
 "cells": [
  {
   "cell_type": "markdown",
   "id": "3e7143b0",
   "metadata": {},
   "source": [
    "# CHEM7370 Class 16\n",
    "## Calculating bond lengths and angles\n",
    "Let's now go back to the XYZ geometry of toluene. We want to find the bond lengths present in this molecule.\n",
    "\n",
    "At the moment, the nuclear coordinates are contained in the string variable `xyz`, so first we need to convert them into a NumPy array."
   ]
  },
  {
   "cell_type": "code",
   "execution_count": 285,
   "id": "fccef06b",
   "metadata": {},
   "outputs": [
    {
     "name": "stdout",
     "output_type": "stream",
     "text": [
      "[[ 4.12149  2.41459 -0.09003]\n",
      " [ 2.67699  2.26472  0.30482]\n",
      " [ 1.65547  3.24568 -0.14713]\n",
      " [ 1.75372  3.48137 -1.21188]\n",
      " [ 0.64986  2.84752  0.02049]\n",
      " [ 1.75166  4.177    0.41938]\n",
      " [ 3.25237  1.47358 -0.74025]\n",
      " [ 4.4229   3.29025 -0.65027]\n",
      " [ 4.87872  2.01599  0.57306]\n",
      " [ 2.43764  1.78612  1.24389]]\n"
     ]
    }
   ],
   "source": [
    "import numpy as np\n",
    "#xyz = '''15\n",
    "#XYZ geometry from RDKit\n",
    "#C 2.2126 -0.1714 0.0957\n",
    "#C 0.7202 -0.0520 0.0066\n",
    "#C 0.0966 1.1905 0.1749\n",
    "#C -1.2944 1.2963 0.1233\n",
    "#C -2.0737 0.1601 -0.0865\n",
    "#C -1.4630 -1.0830 -0.2404\n",
    "#C -0.0721 -1.1901 -0.1890\n",
    "#H 2.5123 -0.3511 1.1327\n",
    "#H 2.6995 0.7425 -0.2605\n",
    "#H 2.5763 -0.9961 -0.5262\n",
    "#H 0.6916 2.0845 0.3467\n",
    "#H -1.7697 2.2653 0.2497\n",
    "#H -3.1565 0.2429 -0.1257\n",
    "#H -2.0699 -1.9706 -0.3979\n",
    "#H 0.3903 -2.1678 -0.3034\n",
    "#'''\n",
    "\n",
    "xyz = '''10\n",
    "PO 2\n",
    "C        4.12149        2.41459       -0.09003\n",
    "C        2.67699        2.26472        0.30482\n",
    "C        1.65547        3.24568       -0.14713\n",
    "H        1.75372        3.48137       -1.21188\n",
    "H        0.64986        2.84752        0.02049\n",
    "H        1.75166        4.17700        0.41938\n",
    "O        3.25237        1.47358       -0.74025\n",
    "H        4.42290        3.29025       -0.65027\n",
    "H        4.87872        2.01599        0.57306\n",
    "H        2.43764        1.78612        1.24389\n",
    "'''\n",
    "\n",
    "\n",
    "xyz_lines = xyz.split(\"\\n\")\n",
    "natoms = int(xyz_lines[0])\n",
    "lcoord = []\n",
    "atom_symbols = []\n",
    "for atom in xyz_lines[2:natoms+2]:\n",
    "    atom_symbols.append(atom.split()[0])\n",
    "    lcoord.append([float(x) for x in atom.split()[1:]])\n",
    "lcoord = np.array(lcoord)\n",
    "print(lcoord)"
   ]
  },
  {
   "cell_type": "markdown",
   "id": "a245da03",
   "metadata": {},
   "source": [
    "We will need a function that takes two `numpy` arrays `atom1` and `atom2` (each with 3 coordinates) and calculates the distance between the two atoms. Complete this function."
   ]
  },
  {
   "cell_type": "code",
   "execution_count": 286,
   "id": "0a30a563",
   "metadata": {},
   "outputs": [],
   "source": [
    "def distance(atom1,atom2):\n",
    "#    return np.sqrt((atom2[0]-atom1[0])*(atom2[0]-atom1[0])+(atom2[1]-atom1[1])*(atom2[1]-atom1[1])+(\n",
    "#        atom2[2]-atom1[2])*(atom2[2]-atom1[2]))\n",
    "    return np.sqrt(np.sum((atom2-atom1)*(atom2-atom1)))"
   ]
  },
  {
   "cell_type": "markdown",
   "id": "f27b3274",
   "metadata": {},
   "source": [
    "Let's now pick every pair of atoms (with the double `for` loop), calculate the distance, and print it if it's less than 1.6 Angstroms (so that it likely represents a bond). Complete the code inside the loops."
   ]
  },
  {
   "cell_type": "code",
   "execution_count": 287,
   "id": "2dafa549",
   "metadata": {},
   "outputs": [
    {
     "name": "stdout",
     "output_type": "stream",
     "text": [
      "1.5049743484192675\n",
      "1.4866218195963625\n",
      "1.0949408208209246\n",
      "1.094476734380407\n",
      "1.0943230960735495\n",
      "1.4365428788936303\n",
      "1.4314803347933216\n",
      "1.082357279875735\n",
      "1.082574515218237\n",
      "1.0808324788791277\n"
     ]
    }
   ],
   "source": [
    "for i in range(natoms):\n",
    "    for j in range(i):\n",
    "        dist = distance(lcoord[i,:],lcoord[j,:])\n",
    "        if dist < 1.6:\n",
    "            print(dist)"
   ]
  },
  {
   "cell_type": "markdown",
   "id": "852e9600",
   "metadata": {},
   "source": [
    "Modify the code above so that, for every bond, it also prints the bond type (C-C or C-H). Remember that we saved the `atom_symbols` array."
   ]
  },
  {
   "cell_type": "code",
   "execution_count": 288,
   "id": "511f5d3c",
   "metadata": {},
   "outputs": [
    {
     "name": "stdout",
     "output_type": "stream",
     "text": [
      "C-C 1.5049743484192675\n",
      "C-C 1.4866218195963625\n",
      "H-C 1.0949408208209246\n",
      "H-C 1.094476734380407\n",
      "H-C 1.0943230960735495\n",
      "O-C 1.4365428788936303\n",
      "O-C 1.4314803347933216\n",
      "H-C 1.082357279875735\n",
      "H-C 1.082574515218237\n",
      "H-C 1.0808324788791277\n"
     ]
    }
   ],
   "source": [
    "for i in range(natoms):\n",
    "    for j in range(i):\n",
    "        dist = distance(lcoord[i,:],lcoord[j,:])\n",
    "        if dist < 1.6:\n",
    "            print(atom_symbols[i]+\"-\"+atom_symbols[j],dist)"
   ]
  },
  {
   "cell_type": "markdown",
   "id": "8fea72e5",
   "metadata": {},
   "source": [
    "As our last task, let's find the bond angles in this molecule.\n",
    "\n",
    "A short refresher from geometry: the dot product `np.dot(v1,v2)` of two vectors *v<sub>1</sub>=(x<sub>1</sub>,y<sub>1</sub>,z<sub>1</sub>)* and *v<sub>2</sub>=(x<sub>2</sub>,y<sub>2</sub>,z<sub>2</sub>)* equals *x<sub>1</sub>x<sub>2</sub>+y<sub>1</sub>y<sub>2</sub>+z<sub>1</sub>z<sub>2</sub>*. This dot product is equal to the product of the lengths of *v<sub>1</sub>* and *v<sub>2</sub>* times the cosine of the angle between the two vectors. If you calculate the cosine, you can use the inverse cosine function `np.arccos()` to get the angle - just remember that this angle will be in radians, and you need to multiply it by `180.0/np.pi` to convert it to degrees.\n",
    "\n",
    "Complete the function that takes three `numpy` arrays `atom1`, `atom2`, `atom3` (each with 3 coordinates) and calculates the `atom1-atom2-atom3` angle."
   ]
  },
  {
   "cell_type": "code",
   "execution_count": 289,
   "id": "3782b7b0",
   "metadata": {},
   "outputs": [],
   "source": [
    "def angle(atom1,atom2,atom3):\n",
    "    v1 = atom1 - atom2\n",
    "    v2 = atom3 - atom2\n",
    "    v1dotv2 = np.dot(v1,v2)\n",
    "    lenv1 = distance(atom2,atom1)\n",
    "    lenv2 = distance(atom3,atom2)\n",
    "    cosalpha = v1dotv2/(lenv1*lenv2)\n",
    "    return np.arccos(cosalpha)*180.0/np.pi"
   ]
  },
  {
   "cell_type": "markdown",
   "id": "1c333a5e",
   "metadata": {},
   "source": [
    "Now, use the definition of `angle` to print the angles between any two bonds sharing a common atom. Remember that for any three atoms `atom1`, `atom2`, `atom3` you need to check three possibilities - each of the three atoms can be bonded to the other two. For example, if `atom1` is bonded to both `atom2` and `atom3`, you need to print the angle `atom2-atom1-atom3`. Please also print the type of the bond angle (for example, `C-C-H`)."
   ]
  },
  {
   "cell_type": "code",
   "execution_count": 290,
   "id": "02d3d5d4",
   "metadata": {},
   "outputs": [
    {
     "name": "stdout",
     "output_type": "stream",
     "text": [
      "C-C-C 120.93452615646196\n",
      "H-C-C 112.08662734730488\n",
      "H-C-C 110.16587608955601\n",
      "H-C-H 108.0399641217613\n",
      "H-C-C 110.10797142208344\n",
      "H-C-H 108.19961751999539\n",
      "H-C-H 108.12440892099413\n",
      "C-O-C 63.30156237263789\n",
      "O-C-C 58.513287723558214\n",
      "O-C-C 58.18514990380388\n",
      "O-C-C 114.76726470469228\n",
      "H-C-C 118.92428465501055\n",
      "H-C-O 117.65531560004185\n",
      "H-C-C 118.29411819508847\n",
      "H-C-O 117.3379811383259\n",
      "H-C-H 114.84338723077997\n",
      "H-C-C 118.98619215614255\n",
      "H-C-C 113.83847686836228\n",
      "H-C-O 118.5934211028357\n"
     ]
    }
   ],
   "source": [
    "for i in range(natoms):\n",
    "    for j in range(i):\n",
    "        for k in range(j):\n",
    "            if distance(lcoord[i,:],lcoord[j,:]) < 1.6 and distance(lcoord[i,:],lcoord[k,:]) < 1.6:\n",
    "                print(atom_symbols[j]+\"-\"+atom_symbols[i]+\"-\"+atom_symbols[k],angle(lcoord[j,:],lcoord[i,:],lcoord[k,:]))\n",
    "            if distance(lcoord[i,:],lcoord[j,:]) < 1.6 and distance(lcoord[j,:],lcoord[k,:]) < 1.6:\n",
    "                print(atom_symbols[i]+\"-\"+atom_symbols[j]+\"-\"+atom_symbols[k],angle(lcoord[i,:],lcoord[j,:],lcoord[k,:]))\n",
    "            if distance(lcoord[j,:],lcoord[k,:]) < 1.6 and distance(lcoord[i,:],lcoord[k,:]) < 1.6:\n",
    "                print(atom_symbols[i]+\"-\"+atom_symbols[k]+\"-\"+atom_symbols[j],angle(lcoord[i,:],lcoord[k,:],lcoord[j,:]))    \n",
    "                "
   ]
  },
  {
   "cell_type": "markdown",
   "id": "ff80657f",
   "metadata": {},
   "source": [
    "Now, the specific tasks that are needed for Project 4:"
   ]
  },
  {
   "cell_type": "code",
   "execution_count": 291,
   "id": "7e781dc5",
   "metadata": {},
   "outputs": [
    {
     "name": "stdout",
     "output_type": "stream",
     "text": [
      "[[ 6.       4.12149  2.41459 -0.09003]\n",
      " [ 6.       2.67699  2.26472  0.30482]\n",
      " [ 6.       1.65547  3.24568 -0.14713]\n",
      " [ 1.       1.75372  3.48137 -1.21188]\n",
      " [ 1.       0.64986  2.84752  0.02049]\n",
      " [ 1.       1.75166  4.177    0.41938]\n",
      " [ 8.       3.25237  1.47358 -0.74025]\n",
      " [ 1.       4.4229   3.29025 -0.65027]\n",
      " [ 1.       4.87872  2.01599  0.57306]\n",
      " [ 1.       2.43764  1.78612  1.24389]]\n",
      "(10, 4)\n"
     ]
    }
   ],
   "source": [
    "atomic_numbers = {'H':1, 'B':5, 'C':6, 'N':7, 'O':8, 'F':9, 'P':15, 'S':16, 'Cl':17}\n",
    "charges = []\n",
    "for symbol in atom_symbols:\n",
    "    if symbol in atomic_numbers:\n",
    "        charges.append(float(atomic_numbers[symbol]))\n",
    "    else:\n",
    "        print ('Unknown atom:',symbol)\n",
    "charges = (np.array(charges)[np.newaxis]).T\n",
    "#print(charges.shape,lcoord.shape)\n",
    "molecule = np.hstack((charges,lcoord))\n",
    "print(molecule)\n",
    "print(molecule.shape)"
   ]
  },
  {
   "cell_type": "code",
   "execution_count": 292,
   "id": "7e690b79",
   "metadata": {},
   "outputs": [
    {
     "name": "stdout",
     "output_type": "stream",
     "text": [
      "atomic_number and Coordinates for file1:\n",
      "[[8.      0.86116 1.09057 4.09998]\n",
      " [1.      1.07858 1.90199 3.61498]\n",
      " [1.      0.55517 1.37365 5.14262]]\n",
      "atomic_number and Coordinates for file2:\n",
      "[[8.      2.68118 1.58333 4.14362]\n",
      " [1.      3.52123 1.58333 3.65862]\n",
      " [1.      2.82687 1.91721 5.04262]]\n"
     ]
    }
   ],
   "source": [
    "#task 1\n",
    "# Function to read XYZ file and return atom coordinates\n",
    "def read_xyz_file(filename):\n",
    "    atomic_number = {\n",
    "    'H': 1,\n",
    "    'C': 6,\n",
    "    'N': 7,\n",
    "    'O': 8\n",
    "}\n",
    "    with open(filename, 'r') as f:\n",
    "        lines = f.readlines()\n",
    "        natoms = int(lines[0].strip())\n",
    "        lcoords = []\n",
    "        atom_symbols = []\n",
    "        for line in lines[2:]:\n",
    "            elements = line.strip().split()\n",
    "            if len(elements) == 4:\n",
    "                coords = [float(x) for x in elements[1:4]]\n",
    "                atom_symbol = elements[0]\n",
    "                atom_symbols.append(atom_symbol)\n",
    "                lcoords.append(coords)\n",
    "        atomic_numbers = np.array([atomic_number.get(atom_symbol, 0) for atom_symbol in atom_symbols])\n",
    "\n",
    "        return np.column_stack((atomic_numbers, np.array(lcoords)))\n",
    "\n",
    "\n",
    "# Read two XYZ files\n",
    "import os\n",
    "file1 = os.path.join(\"examples\",\"water4.xyz\")\n",
    "file2 = os.path.join(\"examples\",\"water2.xyz\")\n",
    "\n",
    "#Read coordinates and atom symbols for file1\n",
    "coords1 = read_xyz_file(file1)\n",
    "\n",
    "#Read coordinates and atom symbols for file2\n",
    "coords2 = read_xyz_file(file2)\n",
    "\n",
    "print(\"atomic_number and Coordinates for file1:\")\n",
    "print(coords1)\n",
    "\n",
    "print(\"atomic_number and Coordinates for file2:\")\n",
    "print(coords2)"
   ]
  },
  {
   "cell_type": "code",
   "execution_count": 293,
   "id": "a4b2577f",
   "metadata": {},
   "outputs": [
    {
     "name": "stdout",
     "output_type": "stream",
     "text": [
      "[0.85620421 1.15181097 4.13118184]\n",
      "[2.73633548 1.60201171 4.1667847 ]\n"
     ]
    }
   ],
   "source": [
    "#task 2\n",
    "molecule1 = coords1\n",
    "molecule2 = coords2\n",
    "atomic_mass = {1: 1.008, 6: 12.011, 7: 14.007, 8: 15.999}\n",
    "\n",
    "def calculate_center_of_mass(molecule):\n",
    "    symbols = molecule[:,0]\n",
    "    coordinates = molecule[:,1:4]\n",
    "    total_mass = 0\n",
    "    center_of_mass = np.zeros([3])\n",
    "    for i in range(len(symbols)):\n",
    "        mass = atomic_mass[symbols[i]]\n",
    "        total_mass += mass\n",
    "        center_of_mass += mass *coordinates[i]\n",
    "    center_of_mass /= total_mass\n",
    "    return center_of_mass\n",
    "\n",
    "print(calculate_center_of_mass(molecule1))\n",
    "print(calculate_center_of_mass(molecule2))"
   ]
  },
  {
   "cell_type": "code",
   "execution_count": 294,
   "id": "a14c7431",
   "metadata": {},
   "outputs": [
    {
     "name": "stdout",
     "output_type": "stream",
     "text": [
      "[[ 8.00000000e+00  4.95579017e-03 -6.12409659e-02 -3.12018385e-02]\n",
      " [ 1.00000000e+00  2.22375790e-01  7.50179034e-01 -5.16201838e-01]\n",
      " [ 1.00000000e+00 -3.01034210e-01  2.21839034e-01  1.01143816e+00]]\n",
      "[-2.77324652e-17  4.62207754e-18 -8.75113347e-16]\n",
      "[[ 8.         -0.05515548 -0.01868171 -0.0231647 ]\n",
      " [ 1.          0.78489452 -0.01868171 -0.5081647 ]\n",
      " [ 1.          0.09053452  0.31519829  0.8758353 ]]\n",
      "[ 1.34040249e-16 -3.08138503e-18  3.75928973e-16]\n"
     ]
    }
   ],
   "source": [
    "#task 3\n",
    "def translate_molecule(molecule, shift):\n",
    "    # Create the translation vector\n",
    "    translation_vector = shift\n",
    "    \n",
    "    # Add the translation vector to the original coordinates\n",
    "    translated_molecule = []\n",
    "    for atom in molecule:\n",
    "        atom_symbol = atom[0]\n",
    "        atom_coords = np.array(atom[1:]) + translation_vector\n",
    "        translated_atom = [atom_symbol] + atom_coords.tolist()\n",
    "        translated_molecule.append(translated_atom)\n",
    "    \n",
    "    return np.array(translated_molecule)\n",
    "\n",
    "molecule1t = translate_molecule(molecule1,-calculate_center_of_mass(molecule1))\n",
    "print(molecule1t)\n",
    "print(calculate_center_of_mass(molecule1t))\n",
    "molecule2t = translate_molecule(molecule2,-calculate_center_of_mass(molecule2))\n",
    "print(molecule2t)\n",
    "print(calculate_center_of_mass(molecule2t))"
   ]
  },
  {
   "cell_type": "code",
   "execution_count": 295,
   "id": "80b522b4",
   "metadata": {},
   "outputs": [
    {
     "name": "stdout",
     "output_type": "stream",
     "text": [
      "Before rotation\n",
      "[[ 8.00000000e+00  4.95579017e-03 -6.12409659e-02 -3.12018385e-02]\n",
      " [ 1.00000000e+00  2.22375790e-01  7.50179034e-01 -5.16201838e-01]\n",
      " [ 1.00000000e+00 -3.01034210e-01  2.21839034e-01  1.01143816e+00]]\n",
      "After rotation\n",
      "[[ 8.00000000e+00  4.95579017e-03  3.12018385e-02 -6.12409659e-02]\n",
      " [ 1.00000000e+00  2.22375790e-01  5.16201838e-01  7.50179034e-01]\n",
      " [ 1.00000000e+00 -3.01034210e-01 -1.01143816e+00  2.21839034e-01]]\n",
      "After 2nd rotation\n",
      "[[ 8.00000000e+00 -6.12409659e-02  3.12018385e-02 -4.95579017e-03]\n",
      " [ 1.00000000e+00  7.50179034e-01  5.16201838e-01 -2.22375790e-01]\n",
      " [ 1.00000000e+00  2.21839034e-01 -1.01143816e+00  3.01034210e-01]]\n",
      "After 3rd rotation\n",
      "[[ 8.00000000e+00  6.12409659e-02 -3.12018385e-02 -4.95579017e-03]\n",
      " [ 1.00000000e+00 -7.50179034e-01 -5.16201838e-01 -2.22375790e-01]\n",
      " [ 1.00000000e+00 -2.21839034e-01  1.01143816e+00  3.01034210e-01]]\n"
     ]
    }
   ],
   "source": [
    "#task 4\n",
    "#Rotating molecules around x, y and z axes\n",
    "\n",
    "def rotate_x(molecule,angle):\n",
    "    \"\"\"Rotates 3-D vector around x-axis\"\"\"\n",
    "    angle_radians = angle * np.pi / 180.0\n",
    "    x_rotation_matrix = np.array([[1, 0, 0],\n",
    "                            [0, np.cos(angle_radians), -np.sin(angle_radians)],\n",
    "                            [0, np.sin(angle_radians), np.cos(angle_radians)]])\n",
    "    rotated_molecule = []\n",
    "    for atom in molecule:\n",
    "        charge = atom[0]\n",
    "        coords = atom[1:]\n",
    "        rotated_coords = np.matmul(x_rotation_matrix,coords)\n",
    "        rotated_atom = [charge] + rotated_coords.tolist()\n",
    "        rotated_molecule.append(rotated_atom)\n",
    "    \n",
    "    return np.array(rotated_molecule)\n",
    "\n",
    "def rotate_y(molecule,angle):\n",
    "    \"\"\"Rotates 3-D vector around y-axis\"\"\"\n",
    "    angle_radians = angle * np.pi / 180.0\n",
    "    y_rotation_matrix = np.array([[np.cos(angle_radians),0,np.sin(angle_radians)],\n",
    "                            [0,1,0],\n",
    "                            [-np.sin(angle_radians), 0, np.cos(angle_radians)]])\n",
    "    rotated_molecule = []\n",
    "    for atom in molecule:\n",
    "        charge = atom[0]\n",
    "        coords = atom[1:]\n",
    "        rotated_coords = np.matmul(y_rotation_matrix,coords)\n",
    "        rotated_atom = [charge] + rotated_coords.tolist()\n",
    "        rotated_molecule.append(rotated_atom)\n",
    "    \n",
    "    return np.array(rotated_molecule)\n",
    "\n",
    "def rotate_z(molecule,angle):\n",
    "    \"\"\"Rotates 3-D vector around z-axis\"\"\"\n",
    "    angle_radians = angle * np.pi / 180.0\n",
    "    z_rotation_matrix = np.array([[np.cos(angle_radians), -np.sin(angle_radians),0],\n",
    "                            [np.sin(angle_radians), np.cos(angle_radians),0],\n",
    "                            [0, 0, 1]])\n",
    "    rotated_molecule = []\n",
    "    for atom in molecule:\n",
    "        charge = atom[0]\n",
    "        coords = atom[1:]\n",
    "        rotated_coords = np.matmul(z_rotation_matrix,coords)\n",
    "        rotated_atom = [charge] + rotated_coords.tolist()\n",
    "        rotated_molecule.append(rotated_atom)\n",
    "    \n",
    "    return np.array(rotated_molecule)\n",
    "\n",
    "test = rotate_x(molecule1t,90.0)\n",
    "print(\"Before rotation\")\n",
    "print(molecule1t)\n",
    "print(\"After rotation\")\n",
    "print(test)\n",
    "test2 = rotate_y(test,90.0)\n",
    "print(\"After 2nd rotation\")\n",
    "print(test2)\n",
    "test3 = rotate_z(test2,180.0)\n",
    "print(\"After 3rd rotation\")\n",
    "print(test3)"
   ]
  },
  {
   "cell_type": "code",
   "execution_count": 296,
   "id": "fc5d95bc",
   "metadata": {},
   "outputs": [
    {
     "name": "stdout",
     "output_type": "stream",
     "text": [
      "[[ 1.9921315  -0.42507125 -0.09597906]\n",
      " [-0.42507125  0.81842302 -0.13358835]\n",
      " [-0.09597906 -0.13358835  1.45686389]]\n"
     ]
    }
   ],
   "source": [
    "#task 5\n",
    "def moment_of_inertia(molecule):\n",
    "# create a dictionary of atomic masses based on the atomic number\n",
    "    atomic_masses = {6: 12.0107, 7: 14.0067, 8: 15.9994, 1: 1.00794}\n",
    "\n",
    "    coordinates = molecule[:, 1:]\n",
    "\n",
    "    masses = np.array([atomic_masses[int(x)] for x in molecule[:, 0]])\n",
    "\n",
    "# calculate the moment of inertia tensor\n",
    "    I = np.zeros((3, 3))\n",
    "    for i in range(len(molecule)):\n",
    "        for j in range(3):\n",
    "            for k in range(3):\n",
    "                if j == k:\n",
    "                    I[j,j] += masses[i] * (coordinates[i,0]**2 + coordinates[i,1]**2 + coordinates[i,2]**2)\n",
    "                    I[j,j] -= masses[i] * coordinates[i,j]**2\n",
    "                else:\n",
    "                    I[j,k] -= masses[i] * coordinates[i,j] * coordinates[i,k]\n",
    "\n",
    "    return I\n",
    "\n",
    "print(moment_of_inertia(test))"
   ]
  },
  {
   "cell_type": "code",
   "execution_count": 297,
   "id": "ac3766e4",
   "metadata": {},
   "outputs": [
    {
     "name": "stdout",
     "output_type": "stream",
     "text": [
      "Eigenvalues\n",
      "[2.13370921 0.65015874 1.48355047]\n",
      "Eigenvectors\n",
      "[[ 0.95103571 -0.30879464  0.01330208]\n",
      " [-0.29966343 -0.93174663 -0.20506107]\n",
      " [-0.07571593 -0.19103426  0.97865878]]\n",
      "[ 2.02923366 -0.63939463 -0.16155577] [ 2.02923366 -0.63939463 -0.16155577]\n"
     ]
    }
   ],
   "source": [
    "#task 6\n",
    "def principal_axes(I):\n",
    "    w,v = np.linalg.eig(I)\n",
    "    return (w,v)\n",
    "\n",
    "eigenvalues,eigenvectors = principal_axes(moment_of_inertia(test))\n",
    "print(\"Eigenvalues\")\n",
    "print(eigenvalues)\n",
    "print(\"Eigenvectors\")\n",
    "print(eigenvectors)\n",
    "print(np.matmul(moment_of_inertia(test),eigenvectors[:,0]),eigenvalues[0]*eigenvectors[:,0])"
   ]
  },
  {
   "cell_type": "code",
   "execution_count": 298,
   "id": "1fadf781",
   "metadata": {},
   "outputs": [
    {
     "name": "stdout",
     "output_type": "stream",
     "text": [
      "[[ 0.          0.95103571 -0.30879464  0.01330208]\n",
      " [ 0.         -0.29966343 -0.93174663 -0.20506107]\n",
      " [ 0.         -0.07571593 -0.19103426  0.97865878]]\n"
     ]
    }
   ],
   "source": [
    "#task 7\n",
    "def angle_calculation(vec, plane, axis): \n",
    "    \n",
    "    vec1 = np.array(vec)\n",
    "    \n",
    "    magvec = np.sqrt(vec1[0] * vec1[0] + vec1[1] * vec1[1] + vec1[2] * vec1[2])\n",
    "    \n",
    "    uvec = vec1/magvec\n",
    "    \n",
    "    projuvec = np.dot(plane,uvec)\n",
    "    \n",
    "    projuvec1 = np.dot(plane.T, projuvec)\n",
    "     \n",
    "    magprojuvec1 = np.sqrt(projuvec1[0] * projuvec1[0] + projuvec1[1] * projuvec1[1] + projuvec1[2] * projuvec1[2])\n",
    "    \n",
    "    anglerad = np.arccos(np.dot(projuvec1, axis)/(magprojuvec1))\n",
    "    angle = anglerad * 180.0/np.pi\n",
    "    \n",
    "    print(projuvec1, axis, angle)\n",
    "    \n",
    "    vec1crossplane = np.cross(projuvec1, axis)\n",
    "    \n",
    "    vec1crossplane = [vec1crossplane[i] for i in range(len(vec1crossplane)) if vec1crossplane[i] != 0.0]\n",
    "    \n",
    "    if vec1crossplane < [0.0]:\n",
    "        return -angle\n",
    "    else:\n",
    "        return angle\n",
    "\n",
    "def fakecharges(axes):\n",
    "#appends a column of 0 charges on the left of the 3x3 axes matrix to make it look like a molecule\n",
    "    newaxes = []\n",
    "    for atom in axes:\n",
    "        newaxes.append([0.0] + atom.tolist())\n",
    "    return np.array(newaxes)\n",
    "\n",
    "print(fakecharges(eigenvectors))\n",
    "                \n",
    "def rotate_1st_axis_to_z(molecule,axes):\n",
    "    vec1 = axes[:,0]\n",
    "    vec2 = axes[:,1]\n",
    "    vec3 = axes[:,2]\n",
    "    \n",
    "   # print(vec1, vec2, vec3)\n",
    "    \n",
    "    identitymatrix = np.eye(3, 3)                 \n",
    "    xz = np.delete(identitymatrix, 1, 0)\n",
    "    \n",
    "    zaxis = identitymatrix[2]\n",
    "    \n",
    "    angle1 = angle_calculation(vec1, xz, zaxis)\n",
    "    \n",
    "    molecule1=rotate_y(molecule,angle1)                  \n",
    "    axes2=(rotate_y(fakecharges(axes.T),angle1)[:,1:]).T ### vec1=(0,y,z')\n",
    "    \n",
    "    print(axes2)\n",
    "\n",
    "    \n",
    "    vec1_2 = axes2[:,0]\n",
    "    vec2_2 = axes2[:,1]\n",
    "    vec3_2 = axes2[:,2]\n",
    "    \n",
    "    yz = np.delete(identitymatrix, 0, 0)\n",
    "    \n",
    "    angle2 = angle_calculation(vec1_2, yz, zaxis)\n",
    "\n",
    "    molecule2=rotate_x(molecule1,angle2)\n",
    "    axes3=(rotate_x(fakecharges(axes2.T),angle2)[:,1:]).T    ### vec1=(0,0,z'')\n",
    "    \n",
    "    print(axes3)\n",
    "    \n",
    "    return molecule2,axes3    \n",
    "                       \n"
   ]
  },
  {
   "cell_type": "code",
   "execution_count": 299,
   "id": "2532477a",
   "metadata": {},
   "outputs": [
    {
     "name": "stdout",
     "output_type": "stream",
     "text": [
      "[ 0.95103571  0.         -0.07571593] [0. 0. 1.] 94.55195534337727\n",
      "[[ 2.63677968e-16  2.14938578e-01 -9.76627568e-01]\n",
      " [-2.99663434e-01 -9.31746630e-01 -2.05061072e-01]\n",
      " [ 9.54044981e-01 -2.92659571e-01 -6.44092324e-02]]\n",
      "[ 0.         -0.29966343  0.95404498] [0. 0. 1.] 17.437389300625014\n",
      "[[ 2.63677968e-16  2.14938578e-01 -9.76627568e-01]\n",
      " [ 1.11022302e-16 -9.76627568e-01 -2.14938578e-01]\n",
      " [ 1.00000000e+00  4.44089210e-16  2.91433544e-16]]\n",
      "[[ 8.00000000e+00  6.06544916e-02  3.27047876e-02 -3.24393290e-16]\n",
      " [ 1.00000000e+00 -7.65461226e-01  5.41066562e-01 -4.99600361e-16]\n",
      " [ 1.00000000e+00 -1.97248309e-01 -1.06015773e+00  4.99600361e-16]]\n",
      "[[ 2.63677968e-16  2.14938578e-01 -9.76627568e-01]\n",
      " [ 1.11022302e-16 -9.76627568e-01 -2.14938578e-01]\n",
      " [ 1.00000000e+00  4.44089210e-16  2.91433544e-16]]\n",
      "[ 0.21493858 -0.97662757  0.        ] [0. 1. 0.] 167.58807614204724\n",
      "[[ 8.00000000e+00 -6.62663692e-02 -1.89034070e-02 -3.24393290e-16]\n",
      " [ 1.00000000e+00  6.31274458e-01 -6.92947669e-01 -4.99600361e-16]\n",
      " [ 1.00000000e+00  4.20506931e-01  9.92982995e-01  4.99600361e-16]]\n",
      "[[-2.81378149e-16 -8.32667268e-17  1.00000000e+00]\n",
      " [-5.17528736e-17  1.00000000e+00  1.94289029e-16]\n",
      " [ 1.00000000e+00  4.44089210e-16  2.91433544e-16]]\n"
     ]
    }
   ],
   "source": [
    "#task 8\n",
    "def rotate_2nd_axis_to_y(molecule,axes):\n",
    "    vec1 = axes[:,0]\n",
    "    vec2 = axes[:,1]\n",
    "    vec3 = axes[:,2]\n",
    "    \n",
    "    identitymatrix = np.eye(3, 3)                 \n",
    "    xy = np.delete(identitymatrix, 2, 0)\n",
    "    \n",
    "    yaxis = identitymatrix[1]\n",
    "    \n",
    "    angle3 = angle_calculation(vec2, xy, yaxis)\n",
    "    \n",
    "    molecule3=rotate_z(molecule,angle3)\n",
    "    axes2=(rotate_z(fakecharges(axes.T),angle3)[:,1:]).T    ### vec2=(x'',y'',z'')\n",
    "    return molecule3,axes2  \n",
    "\n",
    "molrot1,axes1 = rotate_1st_axis_to_z(test,eigenvectors)\n",
    "print(molrot1)\n",
    "print(axes1)\n",
    "molrot2,axes2 = rotate_2nd_axis_to_y(molrot1,axes1)\n",
    "print(molrot2)\n",
    "print(axes2)"
   ]
  },
  {
   "cell_type": "code",
   "execution_count": 300,
   "id": "cf04215b",
   "metadata": {},
   "outputs": [
    {
     "name": "stdout",
     "output_type": "stream",
     "text": [
      "The two molecules have different geometries.\n"
     ]
    }
   ],
   "source": [
    "#task 9\n",
    "    \n",
    "import numpy as np\n",
    "\n",
    "def all_coordinates_match(molecule1, molecule2, tol=1e-6):\n",
    "    # Check if the number of atoms is the same\n",
    "    if molecule1.shape[0] != molecule2.shape[0]:\n",
    "        return False\n",
    "    \n",
    "    # Check if all coordinates match within the given tolerance of 0.000001\n",
    "    if np.allclose(molecule1[:, 1:], molecule2[:, 1:], rtol=tol, atol=tol):\n",
    "        return True\n",
    "    else:\n",
    "        return False\n",
    "\n",
    "if all_coordinates_match(molecule1, molecule2):\n",
    "    print(\"The two molecules have the same geometry (all coordinates match).\")\n",
    "else:\n",
    "    print(\"The two molecules have different geometries.\")\n"
   ]
  },
  {
   "cell_type": "code",
   "execution_count": 301,
   "id": "359bb7ab",
   "metadata": {},
   "outputs": [
    {
     "name": "stdout",
     "output_type": "stream",
     "text": [
      "[[ 6.      -4.12149 -2.41459  0.09003]\n",
      " [ 6.      -2.67699 -2.26472 -0.30482]\n",
      " [ 6.      -1.65547 -3.24568  0.14713]\n",
      " [ 1.      -1.75372 -3.48137  1.21188]\n",
      " [ 1.      -0.64986 -2.84752 -0.02049]\n",
      " [ 1.      -1.75166 -4.177   -0.41938]\n",
      " [ 8.      -3.25237 -1.47358  0.74025]\n",
      " [ 1.      -4.4229  -3.29025  0.65027]\n",
      " [ 1.      -4.87872 -2.01599 -0.57306]\n",
      " [ 1.      -2.43764 -1.78612 -1.24389]]\n"
     ]
    }
   ],
   "source": [
    "#task 10\n",
    "def inversion(molecule):\n",
    "    charges = (molecule[:,0][np.newaxis]).T\n",
    "    coords = molecule[:,1:]\n",
    "    inverted_coords = - coords\n",
    "    inverted_molecule = np.hstack((charges,inverted_coords))\n",
    "    return inverted_molecule\n",
    "\n",
    "print(inversion(molecule))"
   ]
  },
  {
   "cell_type": "code",
   "execution_count": 302,
   "id": "55dbeb28",
   "metadata": {},
   "outputs": [
    {
     "ename": "NameError",
     "evalue": "name 'read_xyz' is not defined",
     "output_type": "error",
     "traceback": [
      "\u001b[0;31m---------------------------------------------------------------------------\u001b[0m",
      "\u001b[0;31mNameError\u001b[0m                                 Traceback (most recent call last)",
      "\u001b[0;32m<ipython-input-302-0a1f70d15984>\u001b[0m in \u001b[0;36m<module>\u001b[0;34m\u001b[0m\n\u001b[1;32m      1\u001b[0m \u001b[0;31m#tasks 999 and 1000\u001b[0m\u001b[0;34m\u001b[0m\u001b[0;34m\u001b[0m\u001b[0;34m\u001b[0m\u001b[0m\n\u001b[0;32m----> 2\u001b[0;31m \u001b[0mmol1\u001b[0m \u001b[0;34m=\u001b[0m \u001b[0mread_xyz\u001b[0m\u001b[0;34m(\u001b[0m\u001b[0mxyz1\u001b[0m\u001b[0;34m)\u001b[0m\u001b[0;34m\u001b[0m\u001b[0;34m\u001b[0m\u001b[0m\n\u001b[0m\u001b[1;32m      3\u001b[0m \u001b[0mmol2\u001b[0m \u001b[0;34m=\u001b[0m \u001b[0mread_xyz\u001b[0m\u001b[0;34m(\u001b[0m\u001b[0mxyz2\u001b[0m\u001b[0;34m)\u001b[0m\u001b[0;34m\u001b[0m\u001b[0;34m\u001b[0m\u001b[0m\n\u001b[1;32m      4\u001b[0m \u001b[0;32mdef\u001b[0m \u001b[0mare_these_the_same\u001b[0m\u001b[0;34m(\u001b[0m\u001b[0mmol1\u001b[0m\u001b[0;34m,\u001b[0m\u001b[0mmol2\u001b[0m\u001b[0;34m)\u001b[0m\u001b[0;34m:\u001b[0m\u001b[0;34m\u001b[0m\u001b[0;34m\u001b[0m\u001b[0m\n\u001b[1;32m      5\u001b[0m     \u001b[0mcom1\u001b[0m \u001b[0;34m=\u001b[0m \u001b[0mcenter_of_mass\u001b[0m\u001b[0;34m(\u001b[0m\u001b[0mmol1\u001b[0m\u001b[0;34m)\u001b[0m\u001b[0;34m\u001b[0m\u001b[0;34m\u001b[0m\u001b[0m\n",
      "\u001b[0;31mNameError\u001b[0m: name 'read_xyz' is not defined"
     ]
    }
   ],
   "source": [
    "#tasks 999 and 1000\n",
    "mol1 = read_xyz(xyz1)\n",
    "mol2 = read_xyz(xyz2)\n",
    "def are_these_the_same(mol1,mol2):\n",
    "    com1 = center_of_mass(mol1)\n",
    "    mol1a = translate(mol1,com1)\n",
    "    com2 = center_of_mass(mol2)\n",
    "    mol2a = translate(mol2,com2)\n",
    "    axes1 = principal_axes(moment_of_inertia(mol1a))\n",
    "    axes2 = principal_axes(moment_of_inertia(mol2a))\n",
    "    (mol1b,axes1b) = rotate_1st_axis_to_z(mol1a,axes1)\n",
    "    (mol1c,axes1c) = rotate_2nd_axis_to_y(mol1b,axes1b)\n",
    "    (mol2b,axes2b) = rotate_1st_axis_to_z(mol2a,axes2)\n",
    "    (mol2c,axes2c) = rotate_2nd_axis_to_y(mol2b,axes2b)\n",
    "    return all_coordinates_match(mol1c,mol2c)\n",
    "    \n",
    "def are_these_mirror_images(mol1,mol2):\n",
    "    inv_mol2 = inversion(mol2)\n",
    "    return are_these_the_same(mol1,inv_mol2)"
   ]
  }
 ],
 "metadata": {
  "kernelspec": {
   "display_name": "Python 3 (ipykernel)",
   "language": "python",
   "name": "python3"
  },
  "language_info": {
   "codemirror_mode": {
    "name": "ipython",
    "version": 3
   },
   "file_extension": ".py",
   "mimetype": "text/x-python",
   "name": "python",
   "nbconvert_exporter": "python",
   "pygments_lexer": "ipython3",
   "version": "3.8.16"
  },
  "vscode": {
   "interpreter": {
    "hash": "31f2aee4e71d21fbe5cf8b01ff0e069b9275f58929596ceb00d14d90e3e16cd6"
   }
  }
 },
 "nbformat": 4,
 "nbformat_minor": 5
}
